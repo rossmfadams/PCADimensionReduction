{
  "nbformat": 4,
  "nbformat_minor": 0,
  "metadata": {
    "colab": {
      "name": "Problem3.ipynb",
      "provenance": [],
      "collapsed_sections": []
    },
    "kernelspec": {
      "name": "python3",
      "display_name": "Python 3"
    }
  },
  "cells": [
    {
      "cell_type": "markdown",
      "metadata": {
        "id": "wOPBgQq3X-oe"
      },
      "source": [
        "See the graph and explanation at the bottom"
      ]
    },
    {
      "cell_type": "code",
      "metadata": {
        "id": "vBzNtzkIC6iX",
        "colab": {
          "base_uri": "https://localhost:8080/"
        },
        "outputId": "29fd0eb9-4227-4e74-cbda-15e22a737ff6"
      },
      "source": [
        "import numpy as np\n",
        "import matplotlib.pyplot as plt\n",
        "from sklearn.neural_network import MLPClassifier\n",
        "from sklearn.decomposition import PCA\n",
        "from keras.datasets import mnist\n",
        "(X_train, y_train), (X_test, y_test) = mnist.load_data()\n",
        "\n",
        "#scale the pixel values to 0-1 range\n",
        "X_train = X_train / 255\n",
        "X_test = X_test / 255\n",
        "\n",
        "print(X_train.shape)\n",
        "\n",
        "X_train = X_train.reshape((-1,28*28))   #784 dimension\n",
        "X_test = X_test.reshape((-1,28*28))\n",
        "\n",
        "print(X_train.shape)\n",
        "print(X_test.shape)\n",
        "\n",
        "#do PCA on the whole training set, unsupervised data is abundant\n",
        "pca = PCA(n_components=20)       #Extract 20 principal components from the original training examples\n",
        "pca.fit(X_train)\n"
      ],
      "execution_count": null,
      "outputs": [
        {
          "output_type": "stream",
          "text": [
            "(60000, 28, 28)\n",
            "(60000, 784)\n",
            "(10000, 784)\n"
          ],
          "name": "stdout"
        },
        {
          "output_type": "execute_result",
          "data": {
            "text/plain": [
              "array([ 9.7, 16.8, 23. , 28.4, 33.3, 37.6, 40.9, 43.8, 46.6, 49. , 51.1,\n",
              "       53.1, 54.8, 56.5, 58.1, 59.6, 60.9, 62.2, 63.4, 64.6])"
            ]
          },
          "metadata": {
            "tags": []
          },
          "execution_count": 6
        }
      ]
    },
    {
      "cell_type": "code",
      "metadata": {
        "id": "fJqBCBEjC82T"
      },
      "source": [
        "# use N training examples for the supervised part\n",
        "N = 500\n",
        "X_train_labelled = X_train[:N]\n",
        "y_train = y_train[:N]\n",
        "\n",
        "X_train_reduced_by_PCA = pca.transform(X_train_labelled)  #fit_transform would use this N-example set as the data to fit\n",
        "X_test_reduced_by_PCA = pca.transform(X_test)\n"
      ],
      "execution_count": null,
      "outputs": []
    },
    {
      "cell_type": "code",
      "metadata": {
        "colab": {
          "base_uri": "https://localhost:8080/"
        },
        "id": "XEBmYhn_Dv5T",
        "outputId": "e33a2409-5701-41ec-dbd7-dc494103818d"
      },
      "source": [
        "#good to check if the classes are ordered (good to have them in mixed order\n",
        "#taking the first 1000 examples can be problematic otherwise\n",
        "y_train[:100]"
      ],
      "execution_count": null,
      "outputs": [
        {
          "output_type": "execute_result",
          "data": {
            "text/plain": [
              "array([5, 0, 4, 1, 9, 2, 1, 3, 1, 4, 3, 5, 3, 6, 1, 7, 2, 8, 6, 9, 4, 0,\n",
              "       9, 1, 1, 2, 4, 3, 2, 7, 3, 8, 6, 9, 0, 5, 6, 0, 7, 6, 1, 8, 7, 9,\n",
              "       3, 9, 8, 5, 9, 3, 3, 0, 7, 4, 9, 8, 0, 9, 4, 1, 4, 4, 6, 0, 4, 5,\n",
              "       6, 1, 0, 0, 1, 7, 1, 6, 3, 0, 2, 1, 1, 7, 9, 0, 2, 6, 7, 8, 3, 9,\n",
              "       0, 4, 6, 7, 4, 6, 8, 0, 7, 8, 3, 1], dtype=uint8)"
            ]
          },
          "metadata": {
            "tags": []
          },
          "execution_count": 11
        }
      ]
    },
    {
      "cell_type": "code",
      "metadata": {
        "colab": {
          "base_uri": "https://localhost:8080/",
          "height": 825
        },
        "id": "_hXP2MAln345",
        "outputId": "3e0f2a6e-8360-492b-cacb-78ba2df585ca"
      },
      "source": [
        "#Let us visally examine how well 20 components work?\n",
        "recons_train = pca.inverse_transform(X_train_reduced_by_PCA)\n",
        "residual_train = X_train_labelled-recons_train     #deflation\n",
        "\n",
        "plt.figure(1)\n",
        "plt.matshow(X_train_labelled[19,:].reshape(28, 28), cmap=plt.cm.gray, vmin=0, vmax=1)\n",
        "\n",
        "plt.figure(2)\n",
        "plt.matshow(recons_train[19,:].reshape(28, 28), cmap=plt.cm.gray, vmin=0, vmax=1)\n",
        "\n",
        "plt.figure(3)\n",
        "plt.matshow(residual_train[19,:].reshape(28, 28), cmap=plt.cm.gray, vmin=0, vmax=1)\n"
      ],
      "execution_count": null,
      "outputs": [
        {
          "output_type": "execute_result",
          "data": {
            "text/plain": [
              "<matplotlib.image.AxesImage at 0x7fc92f4357b8>"
            ]
          },
          "metadata": {
            "tags": []
          },
          "execution_count": 12
        },
        {
          "output_type": "display_data",
          "data": {
            "text/plain": [
              "<Figure size 432x288 with 0 Axes>"
            ]
          },
          "metadata": {
            "tags": []
          }
        },
        {
          "output_type": "display_data",
          "data": {
            "image/png": "[encoded data removed]",
            "text/plain": [
              "<Figure size 288x288 with 1 Axes>"
            ]
          },
          "metadata": {
            "tags": [],
            "needs_background": "light"
          }
        },
        {
          "output_type": "display_data",
          "data": {
            "image/png": "[encoded data removed]",
            "text/plain": [
              "<Figure size 288x288 with 1 Axes>"
            ]
          },
          "metadata": {
            "tags": [],
            "needs_background": "light"
          }
        },
        {
          "output_type": "display_data",
          "data": {
            "image/png": "[encoded data removed]",
            "text/plain": [
              "<Figure size 288x288 with 1 Axes>"
            ]
          },
          "metadata": {
            "tags": [],
            "needs_background": "light"
          }
        }
      ]
    },
    {
      "cell_type": "code",
      "metadata": {
        "id": "fSJ05dir5ZkF",
        "colab": {
          "base_uri": "https://localhost:8080/"
        },
        "outputId": "359eeb69-b713-42ac-83d5-16a1313f31a6"
      },
      "source": [
        "#Are we using too few for training?\n",
        "mlp = MLPClassifier(hidden_layer_sizes=(100,), max_iter=10, alpha=1e-4,\n",
        "                    solver='sgd', verbose=10, learning_rate_init=.1)\n",
        "\n",
        "mlp.fit(X_train_labelled, y_train)\n",
        "print(\"Training set score: %f\" % mlp.score(X_train_labelled, y_train))\n",
        "print(\"Test set score: %f\" % mlp.score(X_test, y_test))\n",
        "\n"
      ],
      "execution_count": null,
      "outputs": [
        {
          "output_type": "stream",
          "text": [
            "Iteration 1, loss = 2.16463045\n",
            "Iteration 2, loss = 1.44368920\n",
            "Iteration 3, loss = 0.83826796\n",
            "Iteration 4, loss = 0.53443553\n",
            "Iteration 5, loss = 0.39606220\n",
            "Iteration 6, loss = 0.32302218\n",
            "Iteration 7, loss = 0.25991786\n",
            "Iteration 8, loss = 0.20347379\n",
            "Iteration 9, loss = 0.16700498\n",
            "Iteration 10, loss = 0.12970235\n",
            "Training set score: 0.980000\n",
            "Test set score: 0.827000\n"
          ],
          "name": "stdout"
        },
        {
          "output_type": "stream",
          "text": [
            "/usr/local/lib/python3.6/dist-packages/sklearn/neural_network/_multilayer_perceptron.py:571: ConvergenceWarning: Stochastic Optimizer: Maximum iterations (10) reached and the optimization hasn't converged yet.\n",
            "  % self.max_iter, ConvergenceWarning)\n"
          ],
          "name": "stderr"
        }
      ]
    },
    {
      "cell_type": "code",
      "metadata": {
        "colab": {
          "base_uri": "https://localhost:8080/"
        },
        "id": "CTsuLSCItmJe",
        "outputId": "b73dfb65-ce66-4d84-f843-773a378024f6"
      },
      "source": [
        "#Does PCA with 20 components keep enough of the variance in the data?\n",
        "mlp = MLPClassifier(hidden_layer_sizes=(100,), max_iter=10, alpha=1e-4,\n",
        "                    solver='sgd', verbose=10, learning_rate_init=.1)\n",
        "\n",
        "mlp.fit(X_train_reduced_by_PCA, y_train)\n",
        "print(\"Training set score: %f\" % mlp.score(X_train_reduced_by_PCA, y_train))\n",
        "print(\"Test set score: %f\" % mlp.score(X_test_reduced_by_PCA, y_test))\n",
        "\n"
      ],
      "execution_count": null,
      "outputs": [
        {
          "output_type": "stream",
          "text": [
            "Iteration 1, loss = 2.37820834\n",
            "Iteration 2, loss = 1.37074496\n",
            "Iteration 3, loss = 0.85092346\n",
            "Iteration 4, loss = 0.60670480\n",
            "Iteration 5, loss = 0.47100753\n",
            "Iteration 6, loss = 0.39125261\n",
            "Iteration 7, loss = 0.34061405\n",
            "Iteration 8, loss = 0.29768792\n",
            "Iteration 9, loss = 0.26366312\n",
            "Iteration 10, loss = 0.23389180\n",
            "Training set score: 0.928000\n",
            "Test set score: 0.817600\n"
          ],
          "name": "stdout"
        },
        {
          "output_type": "stream",
          "text": [
            "/usr/local/lib/python3.6/dist-packages/sklearn/neural_network/_multilayer_perceptron.py:571: ConvergenceWarning: Stochastic Optimizer: Maximum iterations (10) reached and the optimization hasn't converged yet.\n",
            "  % self.max_iter, ConvergenceWarning)\n"
          ],
          "name": "stderr"
        }
      ]
    },
    {
      "cell_type": "code",
      "metadata": {
        "id": "jgZuGZZnuT03",
        "colab": {
          "base_uri": "https://localhost:8080/"
        },
        "outputId": "ad7c2e8a-a3dd-4124-aa72-65e90b552d3c"
      },
      "source": [
        "#Try Decision Trees on the full dimensionality\n",
        "from sklearn.tree import DecisionTreeClassifier\n",
        "clf = DecisionTreeClassifier()\n",
        "clf.fit(X_train_labelled, y_train)\n",
        "print(\"Training set score: %f\" % clf.score(X_train_labelled, y_train))\n",
        "print(\"Test set score: %f\" % clf.score(X_test, y_test))\n"
      ],
      "execution_count": null,
      "outputs": [
        {
          "output_type": "stream",
          "text": [
            "Training set score: 1.000000\n",
            "Test set score: 0.569800\n"
          ],
          "name": "stdout"
        }
      ]
    },
    {
      "cell_type": "code",
      "metadata": {
        "colab": {
          "base_uri": "https://localhost:8080/"
        },
        "id": "apWT3bzMnslP",
        "outputId": "f7490155-c9bb-4308-b4b3-0259f52f4463"
      },
      "source": [
        "#Try Decision Trees on the reduced dimensions\n",
        "clf = DecisionTreeClassifier()\n",
        "clf.fit(X_train_reduced_by_PCA, y_train)\n",
        "print(\"Training set score: %f\" % clf.score(X_train_reduced_by_PCA, y_train))\n",
        "print(\"Test set score: %f\" % clf.score(X_test_reduced_by_PCA, y_test))\n"
      ],
      "execution_count": null,
      "outputs": [
        {
          "output_type": "stream",
          "text": [
            "Training set score: 1.000000\n",
            "Test set score: 0.602200\n"
          ],
          "name": "stdout"
        }
      ]
    },
    {
      "cell_type": "code",
      "metadata": {
        "colab": {
          "base_uri": "https://localhost:8080/"
        },
        "id": "YB96Vq2WnfKF",
        "outputId": "32c9c50c-f4f9-49df-8f3d-5b29da00642a"
      },
      "source": [
        "#Try KNN on the full dimensionality\n",
        "from sklearn.neighbors import KNeighborsClassifier\n",
        "clf = KNeighborsClassifier(n_neighbors=1)\n",
        "clf.fit(X_train_labelled, y_train)\n",
        "print(\"Training set score: %f\" % clf.score(X_train_labelled, y_train))\n",
        "print(\"Test set score: %f\" % clf.score(X_test, y_test))\n"
      ],
      "execution_count": null,
      "outputs": [
        {
          "output_type": "stream",
          "text": [
            "Training set score: 1.000000\n",
            "Test set score: 0.829400\n"
          ],
          "name": "stdout"
        }
      ]
    },
    {
      "cell_type": "code",
      "metadata": {
        "colab": {
          "base_uri": "https://localhost:8080/"
        },
        "id": "iN6x6dyWoS3U",
        "outputId": "aeabccde-e3cc-4e77-e45b-269d913847fe"
      },
      "source": [
        "#Try KNN on the reduced dimensions\n",
        "clf = KNeighborsClassifier(n_neighbors=1)\n",
        "clf.fit(X_train_reduced_by_PCA, y_train)\n",
        "print(\"Training set score: %f\" % clf.score(X_train_reduced_by_PCA, y_train))\n",
        "print(\"Test set score: %f\" % clf.score(X_test_reduced_by_PCA, y_test))\n"
      ],
      "execution_count": null,
      "outputs": [
        {
          "output_type": "stream",
          "text": [
            "Training set score: 1.000000\n",
            "Test set score: 0.845200\n"
          ],
          "name": "stdout"
        }
      ]
    },
    {
      "cell_type": "code",
      "metadata": {
        "colab": {
          "base_uri": "https://localhost:8080/"
        },
        "id": "i4LW222NWF7A",
        "outputId": "20f3700f-c895-4999-a7ac-4dd04127f5ca"
      },
      "source": [
        "variance = pca.explained_variance_ratio_ # Calculate variance ratios\n",
        "var = np.cumsum(np.round(variance, decimals=3)*100)\n",
        "var # Cumulative sum of variance explained with [n] features"
      ],
      "execution_count": null,
      "outputs": [
        {
          "output_type": "execute_result",
          "data": {
            "text/plain": [
              "array([ 9.7, 16.8, 23. , 28.4, 33.3, 37.6, 40.9, 43.8, 46.6, 49. , 51.1,\n",
              "       53.1, 54.8, 56.5, 58.1, 59.6, 60.9, 62.2, 63.4, 64.6])"
            ]
          },
          "metadata": {
            "tags": []
          },
          "execution_count": 18
        }
      ]
    },
    {
      "cell_type": "code",
      "metadata": {
        "colab": {
          "base_uri": "https://localhost:8080/",
          "height": 312
        },
        "id": "L5KzIMnjRSge",
        "outputId": "d4605356-c576-4d77-986e-a70e11748bcf"
      },
      "source": [
        "plt.ylabel('% Variance Explained')\n",
        "plt.xlabel('# of Features')\n",
        "plt.title('PCA Analysis')\n",
        "plt.ylim(0,65)\n",
        "plt.style.context('seaborn-whitegrid')\n",
        "\n",
        "plt.plot(var)"
      ],
      "execution_count": null,
      "outputs": [
        {
          "output_type": "execute_result",
          "data": {
            "text/plain": [
              "[<matplotlib.lines.Line2D at 0x7fc92f3edcc0>]"
            ]
          },
          "metadata": {
            "tags": []
          },
          "execution_count": 20
        },
        {
          "output_type": "display_data",
          "data": {
            "image/png": "[encoded data removed]",
            "text/plain": [
              "<Figure size 432x288 with 1 Axes>"
            ]
          },
          "metadata": {
            "tags": [],
            "needs_background": "light"
          }
        }
      ]
    },
    {
      "cell_type": "markdown",
      "metadata": {
        "id": "PJgfrexCWRZL"
      },
      "source": [
        "As you can see from the above graph, as the number of features increases the % of variance explained also increases asymptotically. This graph was also created with n=100 and only accounted for ~85% of the variance. This demonstrates the decreasing rate of return for additional PCAs as those toward the begin of the list account for the most variance."
      ]
    }
  ]
}